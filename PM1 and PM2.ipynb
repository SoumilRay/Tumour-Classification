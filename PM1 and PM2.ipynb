{
 "cells": [
  {
   "cell_type": "code",
   "execution_count": 1,
   "metadata": {},
   "outputs": [],
   "source": [
    "import pandas as pd\n",
    "import numpy as np"
   ]
  },
  {
   "cell_type": "code",
   "execution_count": 2,
   "metadata": {},
   "outputs": [],
   "source": [
    "df = pd.read_csv('dataset.csv')\n",
    "df=df.dropna()"
   ]
  },
  {
   "cell_type": "code",
   "execution_count": 3,
   "metadata": {},
   "outputs": [],
   "source": [
    "class perceptronNode:\n",
    "    \n",
    "    def __init__(self , iters):\n",
    "        self.iters = iters\n",
    "        self.w = None\n",
    "    \n",
    "    def fit(self , X , y):\n",
    "        flag = True\n",
    "        c = 0\n",
    "        w = np.zeros(X.shape[1])\n",
    "        for _ in range(self.iters):\n",
    "            for i in range(0 , len(X)):\n",
    "                if(c == 80):\n",
    "                    flag = False\n",
    "                    break;\n",
    "                if(y[i] * np.dot(w , X[i]) <= 0):\n",
    "                    flag = True\n",
    "                    c = 0\n",
    "                    w += (y[i] * X[i])\n",
    "        self.w = w\n",
    "        return self.w\n",
    "    \n",
    "    \n",
    "    def predict(self , X_test):\n",
    "        y_vals = np.dot(X_test, self.w)\n",
    "        y_predicted = np.where(y_vals>=0, 1, -1)\n",
    "        \n",
    "        return y_predicted\n",
    "    \n",
    "    def accuracy(self , y_actual , y_out):\n",
    "        acc = np.sum(y_actual == y_out)/len(y_out)\n",
    "        return acc\n",
    "    \n",
    "    def metricscore(self, y_actual, y_out):\n",
    "        truepos = 0;\n",
    "        falsepos = 0;\n",
    "        trueneg = 0;\n",
    "        falseneg = 0;\n",
    "        for i in range(len(y_actual)):\n",
    "            if(y_actual[i] == y_out[i]):\n",
    "                if(y_actual[i] == -1):\n",
    "                    trueneg = trueneg + 1;\n",
    "                else:\n",
    "                    truepos = truepos + 1;\n",
    "            else:\n",
    "                if(y_out[i] == -1):\n",
    "                    falseneg = falseneg + 1;\n",
    "                else:\n",
    "                    falsepos = falsepos + 1;\n",
    "        return truepos, falsepos, trueneg, falseneg\n",
    "    \n",
    "    def precision(self, y_actual, y_out):\n",
    "        tp, fp, tn, fn = self.metricscore(y_actual, y_out)\n",
    "        prec = tp/(tp + fp)\n",
    "        return prec\n",
    "    \n",
    "    def recall(self, y_actual, y_out):\n",
    "        tp, fp, tn, fn = self.metricscore(y_actual, y_out)\n",
    "        rec = tp/(tp + fn)\n",
    "        return rec"
   ]
  },
  {
   "cell_type": "code",
   "execution_count": 4,
   "metadata": {},
   "outputs": [
    {
     "name": "stdout",
     "output_type": "stream",
     "text": [
      "accuracy  0.9408602150537635\n",
      "precision  0.9692307692307692\n",
      "recall  0.875\n",
      "\n",
      "accuracy  0.9086021505376344\n",
      "precision  0.8192771084337349\n",
      "recall  0.9714285714285714\n"
     ]
    }
   ],
   "source": [
    "df_train1 = df.sample(frac=0.67,random_state=50)\n",
    "df_test1 = df.drop(df_train1.index)\n",
    "\n",
    "X_train1 = df_train1.drop(columns = ['diagnosis' , 'id']).values\n",
    "X_test1 = df_test1.drop(columns = ['diagnosis' , 'id']).values\n",
    "\n",
    "y_train1 = df_train1['diagnosis'].values\n",
    "y_train1[y_train1 == 'M'] = 1\n",
    "y_train1[y_train1 == 'B'] = -1\n",
    "y_test1 = df_test1['diagnosis'].values\n",
    "y_test1[y_test1 == 'M'] = 1\n",
    "y_test1[y_test1 == 'B'] = -1\n",
    "\n",
    "PM1 = perceptronNode(10000)\n",
    "PM1.fit(X_train1 , y_train1)\n",
    "test_acc1 = PM1.accuracy(y_test1 , PM1.predict(X_test1))\n",
    "test_prec1 = PM1.precision(y_test1 , PM1.predict(X_test1))\n",
    "test_rec1 = PM1.recall(y_test1 , PM1.predict(X_test1))\n",
    "print('accuracy ',test_acc1)\n",
    "print('precision ',test_prec1)\n",
    "print('recall ',test_rec1)\n",
    "\n",
    "df_train2 = df.sample(frac=0.67,random_state=51)\n",
    "df_test2 = df.drop(df_train2.index)\n",
    "\n",
    "X_train2 = df_train2.drop(columns = ['diagnosis' , 'id']).values\n",
    "X_test2 = df_test2.drop(columns = ['diagnosis' , 'id']).values\n",
    "\n",
    "y_train2 = df_train2['diagnosis'].values\n",
    "y_train2[y_train2 == 'M'] = 1\n",
    "y_train2[y_train2 == 'B'] = -1\n",
    "y_test2 = df_test2['diagnosis'].values\n",
    "y_test2[y_test2 == 'M'] = 1\n",
    "y_test2[y_test2 == 'B'] = -1\n",
    "\n",
    "PM2 = perceptronNode(10000)\n",
    "PM2.fit(X_train2 , y_train2)\n",
    "test_acc2 = PM2.accuracy(y_test2 , PM2.predict(X_test2))\n",
    "test_prec2 = PM2.precision(y_test2 , PM2.predict(X_test2))\n",
    "test_rec2 = PM2.recall(y_test2 , PM2.predict(X_test2))\n",
    "print('\\naccuracy ',test_acc2)\n",
    "print('precision ',test_prec2)\n",
    "print('recall ',test_rec2)"
   ]
  }
 ],
 "metadata": {
  "kernelspec": {
   "display_name": "Python 3 (ipykernel)",
   "language": "python",
   "name": "python3"
  },
  "language_info": {
   "codemirror_mode": {
    "name": "ipython",
    "version": 3
   },
   "file_extension": ".py",
   "mimetype": "text/x-python",
   "name": "python",
   "nbconvert_exporter": "python",
   "pygments_lexer": "ipython3",
   "version": "3.9.13"
  },
  "vscode": {
   "interpreter": {
    "hash": "934dd4d2165a0f529f5b54b8e6674c76134d31fe4a35cd4df7ff3e3d462f5482"
   }
  }
 },
 "nbformat": 4,
 "nbformat_minor": 2
}

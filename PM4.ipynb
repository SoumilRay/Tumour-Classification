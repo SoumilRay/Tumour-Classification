{
 "cells": [
  {
   "cell_type": "code",
   "execution_count": 1,
   "id": "f6a3fdb2",
   "metadata": {},
   "outputs": [],
   "source": [
    "import pandas as pd\n",
    "import numpy as np"
   ]
  },
  {
   "cell_type": "code",
   "execution_count": 2,
   "id": "26508d43",
   "metadata": {},
   "outputs": [],
   "source": [
    "df = pd.read_csv('dataset.csv')\n",
    "df=df.dropna()\n",
    "cols = list(df.columns)\n",
    "np.random.shuffle(cols)\n",
    "df = df[cols]"
   ]
  },
  {
   "cell_type": "code",
   "execution_count": 3,
   "id": "6558af5b",
   "metadata": {},
   "outputs": [],
   "source": [
    "class perceptronNode:\n",
    "    \n",
    "    def __init__(self , iters):\n",
    "        self.iters = iters\n",
    "        self.w = None\n",
    "    \n",
    "    def fit(self , X , y):\n",
    "        flag = True\n",
    "        c = 0\n",
    "        w = np.zeros(X.shape[1])\n",
    "        for _ in range(self.iters):\n",
    "            for i in range(0 , len(X)):\n",
    "                if(c == 80):\n",
    "                    flag = False\n",
    "                    break;\n",
    "                if(y[i] * np.dot(w , X[i]) <= 0):\n",
    "                    flag = True\n",
    "                    c = 0\n",
    "                    w += (y[i] * X[i])\n",
    "        self.w = w\n",
    "        return self.w\n",
    "    \n",
    "    def activation_func(self, x):\n",
    "        return np.where(x>=0, 1, -1)\n",
    "    \n",
    "    def predict(self , X_test):\n",
    "        y_vals = np.dot(X_test, self.w)\n",
    "        y_predicted = np.where(y_vals>=0, 1, -1)\n",
    "        \n",
    "        return y_predicted\n",
    "    \n",
    "    def accuracy(self , y_actual , y_out):\n",
    "        acc = np.sum(y_actual == y_out)/len(y_out)\n",
    "        return acc\n",
    "    \n",
    "    def metricscore(self, y_actual, y_out):\n",
    "        truepos = 0;\n",
    "        falsepos = 0;\n",
    "        trueneg = 0;\n",
    "        falseneg = 0;\n",
    "        for i in range(len(y_actual)):\n",
    "            if(y_actual[i] == y_out[i]):\n",
    "                if(y_actual[i] == -1):\n",
    "                    trueneg = trueneg + 1;\n",
    "                else:\n",
    "                    truepos = truepos + 1;\n",
    "            else:\n",
    "                if(y_out[i] == -1):\n",
    "                    falseneg = falseneg + 1;\n",
    "                else:\n",
    "                    falsepos = falsepos + 1;\n",
    "        return truepos, falsepos, trueneg, falseneg\n",
    "    \n",
    "    def precision(self, y_actual, y_out):\n",
    "        tp, fp, tn, fn = self.metricscore(y_actual, y_out)\n",
    "        prec = tp/(tp + fp)\n",
    "        return prec\n",
    "    \n",
    "    def recall(self, y_actual, y_out):\n",
    "        tp, fp, tn, fn = self.metricscore(y_actual, y_out)\n",
    "        rec = tp/(tp + fn)\n",
    "        return rec"
   ]
  },
  {
   "cell_type": "code",
   "execution_count": 4,
   "id": "92fd1a9c",
   "metadata": {},
   "outputs": [
    {
     "name": "stdout",
     "output_type": "stream",
     "text": [
      "accuracy  0.9354838709677419\n",
      "precision  0.9642857142857143\n",
      "recall  0.84375\n"
     ]
    }
   ],
   "source": [
    "df_train4 = df.sample(frac=0.67,random_state=49)\n",
    "df_test4 = df.drop(df_train4.index)\n",
    "\n",
    "X_train4 = df_train4.drop(columns = ['diagnosis' , 'id']).values\n",
    "X_test4 = df_test4.drop(columns = ['diagnosis' , 'id']).values\n",
    "\n",
    "y_train4 = df_train4['diagnosis'].values\n",
    "y_train4[y_train4 == 'M'] = 1\n",
    "y_train4[y_train4 == 'B'] = -1\n",
    "y_test4 = df_test4['diagnosis'].values\n",
    "y_test4[y_test4 == 'M'] = 1\n",
    "y_test4[y_test4 == 'B'] = -1\n",
    "\n",
    "PM4 = perceptronNode(10000)\n",
    "PM4.fit(X_train4 , y_train4)\n",
    "test_acc4 = PM4.accuracy(y_test4 , PM4.predict(X_test4))\n",
    "test_prec4 = PM4.precision(y_test4 , PM4.predict(X_test4))\n",
    "test_rec4 = PM4.recall(y_test4 , PM4.predict(X_test4))\n",
    "print('accuracy ',test_acc4)\n",
    "print('precision ',test_prec4)\n",
    "print('recall ',test_rec4)"
   ]
  }
 ],
 "metadata": {
  "kernelspec": {
   "display_name": "Python 3 (ipykernel)",
   "language": "python",
   "name": "python3"
  },
  "language_info": {
   "codemirror_mode": {
    "name": "ipython",
    "version": 3
   },
   "file_extension": ".py",
   "mimetype": "text/x-python",
   "name": "python",
   "nbconvert_exporter": "python",
   "pygments_lexer": "ipython3",
   "version": "3.9.13"
  }
 },
 "nbformat": 4,
 "nbformat_minor": 5
}
